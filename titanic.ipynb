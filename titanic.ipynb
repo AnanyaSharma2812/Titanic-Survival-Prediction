{
 "cells": [
  {
   "cell_type": "code",
   "execution_count": 34,
   "id": "36b8349f-ef23-4b2c-ab7d-50c7bee9d2f0",
   "metadata": {},
   "outputs": [
    {
     "data": {
      "text/plain": [
       "(887, 9)"
      ]
     },
     "execution_count": 34,
     "metadata": {},
     "output_type": "execute_result"
    }
   ],
   "source": [
    "# import for data handling\n",
    "import pandas as pd\n",
    "# import for numerical analysis\n",
    "import numpy as np\n",
    "\n",
    "# read the data from the csv file into a dataframe\n",
    "titanic = pd.read_csv(\"./titanic.csv\")\n",
    "titanic.shape"
   ]
  },
  {
   "cell_type": "code",
   "execution_count": 24,
   "id": "a8fb3155-fd69-492c-b023-d708acfb0f47",
   "metadata": {},
   "outputs": [
    {
     "data": {
      "text/plain": [
       "Sex\n",
       "female    233\n",
       "male      109\n",
       "Name: Survived, dtype: int64"
      ]
     },
     "execution_count": 24,
     "metadata": {},
     "output_type": "execute_result"
    }
   ],
   "source": [
    "titanic[titanic.Survived == 1].groupby(\"Sex\").Survived.count()"
   ]
  },
  {
   "cell_type": "markdown",
   "id": "be33a14f-c618-444b-8fae-f0d1062225e7",
   "metadata": {},
   "source": [
    "## Part 1\n",
    "Fit an appropriate regression model to predict the survival of a passenger using sex as a single pre\u0002dictor. With the help of the fitted model, answer the following questions (show your calculations,\n",
    "either by hand or with help of R):\n",
    "• What is the probability that you survive given that you are a male?\n",
    "• What is the probability of surviving if you are female?"
   ]
  },
  {
   "cell_type": "code",
   "execution_count": 11,
   "id": "14defa49-d92d-4798-871b-40bdc1dbdc68",
   "metadata": {},
   "outputs": [
    {
     "name": "stdout",
     "output_type": "stream",
     "text": [
      "Summary for model for calculating Survival based on sex of passenger :\n",
      "\n",
      "                  Generalized Linear Model Regression Results                  \n",
      "==============================================================================\n",
      "Dep. Variable:               Survived   No. Observations:                  887\n",
      "Model:                            GLM   Df Residuals:                      885\n",
      "Model Family:                Binomial   Df Model:                            1\n",
      "Link Function:                  logit   Scale:                          1.0000\n",
      "Method:                          IRLS   Log-Likelihood:                -458.06\n",
      "Date:                Tue, 09 Nov 2021   Deviance:                       916.12\n",
      "Time:                        00:41:29   Pearson chi2:                     887.\n",
      "No. Iterations:                     4                                         \n",
      "Covariance Type:            nonrobust                                         \n",
      "==================================================================================\n",
      "                     coef    std err          z      P>|z|      [0.025      0.975]\n",
      "----------------------------------------------------------------------------------\n",
      "Intercept          1.0566      0.129      8.191      0.000       0.804       1.309\n",
      "C(Sex)[T.male]    -2.5051      0.167    -14.980      0.000      -2.833      -2.177\n",
      "==================================================================================\n",
      "\n",
      "Survival probability percentage for males is:  19.022687609075923 %\n",
      "Survival odds for males are:  0.2349137931034617  to 1\n",
      "\n",
      "Survival probability percentage for females is:  74.20382165599347 %\n",
      "Survival odds for females are:  2.8765432098679034  to 1\n"
     ]
    }
   ],
   "source": [
    "# import modules for regression using formula\n",
    "import statsmodels.formula.api as smf\n",
    "import statsmodels.api as sm\n",
    "\n",
    "# formula for calculating survival based on sex\n",
    "formula = \"Survived ~ C(Sex)\"\n",
    "\n",
    "# create and fit the model for logistic regression using glm with the formula\n",
    "model1 = smf.glm(formula=formula, data=titanic, family=sm.families.Binomial()).fit()\n",
    "# calculate and print the summary of the model created\n",
    "print(\"Summary for model for calculating Survival based on sex of passenger :\\n\\n\",model1.summary())\n",
    "\n",
    "# use the model created to make predictions for both genders\n",
    "\n",
    "# survival probability prediction for sex = male\n",
    "probability_survival_male = model1.predict(pd.DataFrame({'Sex': [\"male\"]}))\n",
    "print('\\nSurvival probability percentage for males is: ', probability_survival_male.values[0]*100, \"%\")\n",
    "# calculate and print the odds of survival for males using the formula: odds = p/(1-p)\n",
    "odd_survival_male = probability_survival_male.values[0]/(1-probability_survival_male.values[0])\n",
    "print('Survival odds for males are: ', odd_survival_male, \" to 1\")\n",
    "\n",
    "# survival probability prediction for sex = female\n",
    "probability_survival_female = model1.predict(pd.DataFrame({'Sex': [\"female\"]}))\n",
    "print('\\nSurvival probability percentage for females is: ', probability_survival_female.values[0]*100, \"%\")\n",
    "# calculate and print the odds of survival for females using the formula: odds = p/(1-p)\n",
    "odd_survival_female = probability_survival_female.values[0]/(1-probability_survival_female.values[0])\n",
    "print('Survival odds for females are: ', odd_survival_female, \" to 1\")"
   ]
  },
  {
   "cell_type": "markdown",
   "id": "8dd9abe5-7b30-4d50-b7c5-24ca4529cc19",
   "metadata": {},
   "source": [
    "-----------------------------"
   ]
  },
  {
   "cell_type": "markdown",
   "id": "26f2a856-d618-4342-8a03-8cfb6965f97f",
   "metadata": {},
   "source": [
    "## PART 2\n",
    "Remember the character ’Jack Dawson’ from the movie Titanic? Using the dataset, fit appropri\u0002ate regression models to answer whether his death in the movie is realistic or not. You are free\n",
    "to choose the explanatory variables to be included in the model. The following is known about\n",
    "Jack:\n",
    "- male\n",
    "- 20 years old\n",
    "- travelled in the third class\n",
    "- travelled without any family\n",
    "- ticket fare unknown since he won it in a game of cards\n",
    "- embarked in Southampton\n",
    "\n",
    "You can compare several models, but make sure that you clearly state the final model chosen and\n",
    "the reasons behind this final selection. With the help of your final model chosen, interpret the\n",
    "results in terms of probability of survival (as you did in Part 1)"
   ]
  },
  {
   "cell_type": "code",
   "execution_count": 12,
   "id": "10be5ab4-248b-4dba-8242-2ef3d1dd24be",
   "metadata": {},
   "outputs": [],
   "source": [
    "# we rename the columns where there are spaces in the name so that we can easily use them in the formula\n",
    "titanic = titanic.rename(columns={\"Siblings/Spouses Aboard\": \"Siblings_Spouses\", \"Parents/Children Aboard\": \"Parents_Children\"})"
   ]
  },
  {
   "cell_type": "code",
   "execution_count": 29,
   "id": "ca573055-bd99-4ce7-8df8-1e96bfc03b45",
   "metadata": {},
   "outputs": [],
   "source": [
    "# function to perform backward stepwise regression to find optimal features we should include in the formula\n",
    "# it takes the features list as input\n",
    "# it gives a dictionary of AIC score with the corresponding model formula used , as the output\n",
    "def stepwise_regression(included):\n",
    "    # initialize a dictionary for the output\n",
    "    model_formula_and_aic = {}\n",
    "    print(\"Performing backward stepwise regression to find optimal formula ---->\")\n",
    "    # run a loop to perform backward regression till model changes\n",
    "    while True:\n",
    "        # stooping variable to end loop of backward regression when model stops changes\n",
    "        # initially set as False\n",
    "        altered = False\n",
    "        # evaluate the formula to be used for the model from the included features list\n",
    "        formula_new = \"Survived ~ \" + \" + \".join(included)\n",
    "        # create and fit the glm model using the formula\n",
    "        model = smf.glm(formula=formula_new, data=titanic, family=sm.families.Binomial()).fit()\n",
    "        # calculate the AIC score for the model created\n",
    "        aic = model.aic\n",
    "        # print the formula and the AIC score for the model evaluated\n",
    "        print(\"\\nWith formula [\", formula_new, \"], \\nAIC score of model = \", aic)\n",
    "        # store the formula used and the AIC score for the model in the dictionary, with AIC as the key\n",
    "        model_formula_and_aic[aic] = formula_new\n",
    "        # separate all coefficients except the intercept\n",
    "        pvalues = model.pvalues.iloc[1:]\n",
    "        # calculate the maximum pvalue\n",
    "        worst_pval = pvalues.max()\n",
    "        \n",
    "        # set pvalue threshold at 0.05, if max pvalue is greater than that, we remove the feature\n",
    "        if worst_pval > 0.05:\n",
    "            # if value is greater than threshold set loop stopping variable to True, to indicate change made in this iteration\n",
    "            # when set to true, it ensures the loop carries on\n",
    "            altered = True\n",
    "            # get the name of the feature with the maximum pvalue (the worst feature)\n",
    "            worst_feature = str(pvalues.idxmax())\n",
    "            # if the feature name has a specific Reference group value appended to its name, we remove the appended value from the string\n",
    "            if \"[\" in worst_feature:\n",
    "                worst_feature = worst_feature[0: worst_feature.index(\"[\")]\n",
    "            # remove the worst feature from the list of included columns/features\n",
    "            included.remove(worst_feature)\n",
    "            # print the feature being dropped with its p value for logging\n",
    "            print('\\n - Dropping the feature = ', worst_feature ,', with p-value = ',  worst_pval)\n",
    "       \n",
    "        # if no change is done in this iteration that means stepwise regression process has ended, end the loop\n",
    "        if not altered:\n",
    "            break\n",
    "   \n",
    "    # return the dictionary containing all the models' AIC scores and Formulas used        \n",
    "    return model_formula_and_aic"
   ]
  },
  {
   "cell_type": "code",
   "execution_count": 30,
   "id": "a7ee7e4f-e81f-438e-a694-09992789c9ce",
   "metadata": {},
   "outputs": [
    {
     "name": "stdout",
     "output_type": "stream",
     "text": [
      "Performing backward stepwise regression to find optimal formula ---->\n",
      "\n",
      "With formula [ Survived ~ C(Sex) + C(Embarked) + Age + C(Pclass) + Siblings_Spouses + Parents_Children + Fare ], \n",
      "AIC score of model =  799.7065180109817\n",
      "\n",
      " - Dropping the feature =  C(Embarked) , with p-value =  0.48293802692736554\n",
      "\n",
      "With formula [ Survived ~ C(Sex) + Age + C(Pclass) + Siblings_Spouses + Parents_Children + Fare ], \n",
      "AIC score of model =  796.9281554818747\n",
      "\n",
      " - Dropping the feature =  Parents_Children , with p-value =  0.3681512920141502\n",
      "\n",
      "With formula [ Survived ~ C(Sex) + Age + C(Pclass) + Siblings_Spouses + Fare ], \n",
      "AIC score of model =  795.7532687957257\n",
      "\n",
      " - Dropping the feature =  Fare , with p-value =  0.31965839309099664\n",
      "\n",
      "With formula [ Survived ~ C(Sex) + Age + C(Pclass) + Siblings_Spouses ], \n",
      "AIC score of model =  794.8181416117563\n"
     ]
    }
   ],
   "source": [
    "# create a list of all features that we have for JACK\n",
    "included_columns = [\"C(Sex)\", \"C(Embarked)\", \"Age\", \"C(Pclass)\", \"Siblings_Spouses\", \"Parents_Children\", \"Fare\"]\n",
    "# call the stepwise regression method for these features\n",
    "model_formulas_aic = stepwise_regression(included_columns)"
   ]
  },
  {
   "cell_type": "code",
   "execution_count": 31,
   "id": "1af54201-e6e5-424d-93ce-e8554de90293",
   "metadata": {},
   "outputs": [
    {
     "name": "stdout",
     "output_type": "stream",
     "text": [
      "The model with the best aic score has the formula = [ Survived ~ C(Sex) + Age + C(Pclass) + Siblings_Spouses ]\n"
     ]
    }
   ],
   "source": [
    "# now we compare the AIC scores of these models to select the optimal model\n",
    "# the model with the lowest AIC score is the best\n",
    "\n",
    "# calculate the minimum AIC score from the dictionary of AIC scores and formulas, we got from the stepwise regression method\n",
    "min_aic = min(model_formulas_aic.keys())\n",
    "# get the best formula corresponding to the minimum AIC score and print it\n",
    "best_formula = model_formulas_aic[min_aic]\n",
    "print(\"The model with the best aic score has the formula = [\", best_formula, \"]\")"
   ]
  },
  {
   "cell_type": "code",
   "execution_count": 32,
   "id": "e0aa1b9a-fd02-47d8-8e01-e0844cdb7fe0",
   "metadata": {},
   "outputs": [
    {
     "name": "stdout",
     "output_type": "stream",
     "text": [
      "Summary of selected model : \n",
      "\n",
      "                   Generalized Linear Model Regression Results                  \n",
      "==============================================================================\n",
      "Dep. Variable:               Survived   No. Observations:                  887\n",
      "Model:                            GLM   Df Residuals:                      881\n",
      "Model Family:                Binomial   Df Model:                            5\n",
      "Link Function:                  logit   Scale:                          1.0000\n",
      "Method:                          IRLS   Log-Likelihood:                -391.41\n",
      "Date:                Tue, 09 Nov 2021   Deviance:                       782.82\n",
      "Time:                        14:50:02   Pearson chi2:                     921.\n",
      "No. Iterations:                     5                                         \n",
      "Covariance Type:            nonrobust                                         \n",
      "====================================================================================\n",
      "                       coef    std err          z      P>|z|      [0.025      0.975]\n",
      "------------------------------------------------------------------------------------\n",
      "Intercept            4.2942      0.418     10.276      0.000       3.475       5.113\n",
      "C(Sex)[T.male]      -2.7380      0.196    -13.984      0.000      -3.122      -2.354\n",
      "C(Pclass)[T.2]      -1.3217      0.268     -4.923      0.000      -1.848      -0.796\n",
      "C(Pclass)[T.3]      -2.5412      0.258     -9.837      0.000      -3.048      -2.035\n",
      "Age                 -0.0439      0.008     -5.662      0.000      -0.059      -0.029\n",
      "Siblings_Spouses    -0.4096      0.105     -3.883      0.000      -0.616      -0.203\n",
      "====================================================================================\n"
     ]
    }
   ],
   "source": [
    "# create and fit a new model with the optimal formula calculated\n",
    "model2 = smf.glm(formula=best_formula, data=titanic, family=sm.families.Binomial()).fit()\n",
    "# print the summary for the model\n",
    "print(\"Summary of selected model : \\n\\n \",model2.summary())"
   ]
  },
  {
   "cell_type": "code",
   "execution_count": 33,
   "id": "92e2148d-70ad-4adc-ac7e-3b01a8f62338",
   "metadata": {},
   "outputs": [
    {
     "name": "stdout",
     "output_type": "stream",
     "text": [
      "Survival probability percentage for Jack Dawson is:  13.43001420868069 %\n",
      "Survival odds for Jack are:  0.15513476276933116  to 1\n"
     ]
    }
   ],
   "source": [
    "# use the model to predict probability of Jack Dawson's survival and print it\n",
    "probability_survival_jack = model2.predict(pd.DataFrame({\"Sex\": [\"male\"], \"Age\": [20], \"Pclass\": [3], \"Siblings_Spouses\": [0]}))\n",
    "print('Survival probability percentage for Jack Dawson is: ', probability_survival_jack.values[0]*100, \"%\")\n",
    "# calculate and print the odds of survival for jack using the formula: odds = p/(1-p)\n",
    "odd_survival_jack = probability_survival_jack.values[0]/(1-probability_survival_jack.values[0])\n",
    "print('Survival odds for Jack are: ', odd_survival_jack, \" to 1\")"
   ]
  },
  {
   "cell_type": "code",
   "execution_count": null,
   "id": "1d51de8c-2bca-4027-a975-211bf89ac153",
   "metadata": {},
   "outputs": [],
   "source": []
  },
  {
   "cell_type": "code",
   "execution_count": null,
   "id": "0d9afa2a-e097-44ba-b07f-5c2a60b7ee17",
   "metadata": {},
   "outputs": [],
   "source": []
  }
 ],
 "metadata": {
  "kernelspec": {
   "display_name": "Python 3 (ipykernel)",
   "language": "python",
   "name": "python3"
  },
  "language_info": {
   "codemirror_mode": {
    "name": "ipython",
    "version": 3
   },
   "file_extension": ".py",
   "mimetype": "text/x-python",
   "name": "python",
   "nbconvert_exporter": "python",
   "pygments_lexer": "ipython3",
   "version": "3.8.8"
  }
 },
 "nbformat": 4,
 "nbformat_minor": 5
}
